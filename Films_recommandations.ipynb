{
  "nbformat": 4,
  "nbformat_minor": 0,
  "metadata": {
    "colab": {
      "provenance": [],
      "mount_file_id": "1bF-EQzvfkZ5g9oYanTETbQT-0unmpkWS",
      "authorship_tag": "ABX9TyPh3POQTtReWfrR88DwZcTR",
      "include_colab_link": true
    },
    "kernelspec": {
      "name": "python3",
      "display_name": "Python 3"
    },
    "language_info": {
      "name": "python"
    }
  },
  "cells": [
    {
      "cell_type": "markdown",
      "metadata": {
        "id": "view-in-github",
        "colab_type": "text"
      },
      "source": [
        "<a href=\"https://colab.research.google.com/github/arnaudstdr/films_reco/blob/main/Films_recommandations.ipynb\" target=\"_parent\"><img src=\"https://colab.research.google.com/assets/colab-badge.svg\" alt=\"Open In Colab\"/></a>"
      ]
    },
    {
      "cell_type": "markdown",
      "source": [
        "# Système de recommandations de Films\n",
        "Développement d'un système de recommandation de films basé sur l'analyse du contenu utilisant le Natural Language Processing (NLP) et des algorithmes de similarité vectorielle."
      ],
      "metadata": {
        "id": "8y0HIAPQ93ic"
      }
    },
    {
      "cell_type": "markdown",
      "source": [
        "## Sommaire\n",
        "\n",
        "- <a href=\"#importation\">1. Importation des outils</a>\n",
        "- <a href=\"#chargement-donnees\">2. Chargement des données</a>\n",
        "- <a href=\"#preparation-donnees\">3. Préparation des données</a>\n",
        "- <a href=\"#representation-vecto\">4. Représentation vectiorielle</a>\n",
        "- <a href=\"#similarité\">5. Calcul de la similarité</a>\n",
        "- <a href=\"#fonction-reco\">6. Fonctions de recommandation</a>\n",
        "- <a href=\"#visualisation\">7. Visualisation</a>\n",
        "- <a href=\"#evaluation\">8. Évaluation du système</a>\n"
      ],
      "metadata": {
        "id": "LWY6Sacc-BHG"
      }
    },
    {
      "cell_type": "markdown",
      "source": [
        "## 1. <a id=\"importation\">Importation des outils</a>\n",
        "\n"
      ],
      "metadata": {
        "id": "u2RaOL1Y-En3"
      }
    },
    {
      "cell_type": "code",
      "execution_count": null,
      "metadata": {
        "id": "NPG7_wr38jhS"
      },
      "outputs": [],
      "source": [
        "import pandas as pd\n",
        "import numpy as np\n",
        "from sklearn.feature_extraction.text import TfidfVectorizer\n",
        "from sklearn.metrics.pairwise import cosine_similarity\n",
        "import matplotlib.pyplot as plt\n",
        "import seaborn as sns"
      ]
    },
    {
      "cell_type": "markdown",
      "source": [
        "## 2. <a id=\"chargement-donnees\">Chargement des données</a>\n",
        "\n",
        "Télécharger les données depuis https://www.kaggle.com/datasets/tmdb/tmdb-movie-metadata"
      ],
      "metadata": {
        "id": "u9vIaxri_LBi"
      }
    },
    {
      "cell_type": "code",
      "source": [
        "movies = pd.read_csv('/content/drive/MyDrive/Colab Notebooks/PROJETS_ML/Films_recommandations/tmdb_5000_movies.csv')\n",
        "credits = pd.read_csv('/content/drive/MyDrive/Colab Notebooks/PROJETS_ML/Films_recommandations/tmdb_5000_credits.csv')\n",
        "\n",
        "credits.head()"
      ],
      "metadata": {
        "id": "8KS52aBs_W-X"
      },
      "execution_count": null,
      "outputs": []
    },
    {
      "cell_type": "code",
      "source": [
        "movies.head()"
      ],
      "metadata": {
        "id": "EG9uXBwiBjVa"
      },
      "execution_count": null,
      "outputs": []
    },
    {
      "cell_type": "markdown",
      "source": [
        "## 3. <a id=\"preparation-donnees\">Préparation des données</a>"
      ],
      "metadata": {
        "id": "HqpUY5uJA-Zj"
      }
    },
    {
      "cell_type": "code",
      "source": [
        "# Modification de la colonne 'movie_id' de credits en 'id' pour faciliter la fusion\n",
        "credits.rename(columns={'movie_id': 'id'}, inplace=True)\n",
        "\n",
        "credits.head()"
      ],
      "metadata": {
        "id": "TDjGq0M__qqx"
      },
      "execution_count": null,
      "outputs": []
    },
    {
      "cell_type": "markdown",
      "source": [
        "#### Fusion des deux DataFrames\n",
        "La fusion des deux dataframes facilite l'analyse et la création du modèle :\n",
        "- Toutes les informations nécessaire sont disponible dans un seul DataFrame.\n",
        "- Permet de manipuler les données plus efficacement et d'extraire les caractéristiques pertinentes."
      ],
      "metadata": {
        "id": "7ZuylBGfE5Ir"
      }
    },
    {
      "cell_type": "code",
      "source": [
        "# Fusion des DataFrames\n",
        "movies_data = movies.merge(credits, on='id')\n",
        "\n",
        "movies_data.head()"
      ],
      "metadata": {
        "id": "TjDFyVpuCpXe"
      },
      "execution_count": null,
      "outputs": []
    },
    {
      "cell_type": "markdown",
      "source": [
        "- Les deux DataFrames contiennent une colones `title`, alors lors de la fusion Pandas ajoute des suffixes `_x` et `_y` pour éviter les conflits.\n",
        "- Comme les colonnes `title_x` et `title_y` sont identiques, nous allons n'en garder qu'un seul.  "
      ],
      "metadata": {
        "id": "590pC6T9HvSj"
      }
    },
    {
      "cell_type": "code",
      "source": [
        "movies_data = movies_data.drop(columns=['title_y'])\n",
        "movies_data.rename(columns={'title_x': 'title'}, inplace=True)\n",
        "\n",
        "movies_data.head()"
      ],
      "metadata": {
        "id": "ijeky9vxGFhR"
      },
      "execution_count": null,
      "outputs": []
    },
    {
      "cell_type": "code",
      "source": [
        "# Sélection des caractéristiques pertinentes\n",
        "features = ['title', 'overview', 'genres', 'keywords', 'cast', 'crew']\n",
        "movies_features = movies_data[features]"
      ],
      "metadata": {
        "id": "P1mMbN45Crqk"
      },
      "execution_count": null,
      "outputs": []
    },
    {
      "cell_type": "markdown",
      "source": [
        "**Le nettoyage des valeurs NaN (valeurs manquantes)** est une étape essentielle pour éviter les erreurs et garantir. Pourquoi ?\n",
        "1. Éviter les erreurs lors des calculs\n",
        "  - `TfidfVectorizer` ou `cosine_similarity` exigent des entrées complètes.\n",
        "2. Améliorer la qualité des recommandations\n",
        "  - Une ligne contenant des `Nan` peut fausser les prédictions.\n",
        "3. Préparer les données pour l'entraînement du modèle"
      ],
      "metadata": {
        "id": "Th45EwgkIz-D"
      }
    },
    {
      "cell_type": "code",
      "source": [
        "# Nettoyage des données NaN\n",
        "movies_features = movies_features.fillna('')"
      ],
      "metadata": {
        "id": "IYjoc5-ZIa5s"
      },
      "execution_count": null,
      "outputs": []
    },
    {
      "cell_type": "markdown",
      "source": [
        "#### Conversion des colonnes JSON en chaînes de caractères\n",
        "- Facilite l'analyse et la manipulation\n",
        "- Rend compatible avec les algorithmes de NLP\n",
        "- Permet un affichage plus simple et lisible"
      ],
      "metadata": {
        "id": "x1STBQ3AyQ54"
      }
    },
    {
      "cell_type": "code",
      "source": [
        "# Conversion des colonnes JSON en chaînes de caractères\n",
        "import ast\n",
        "\n",
        "def convert_json(obj):\n",
        "  try:\n",
        "    result = ast.literal_eval(obj)\n",
        "    names = [item['name'] for item in result]\n",
        "    return ' '.join(names)\n",
        "  except:\n",
        "    return ''\n",
        "\n",
        "movies_features['genres'] = movies_features['genres'].apply(convert_json)\n",
        "movies_features['keywords'] = movies_features['keywords'].apply(convert_json)"
      ],
      "metadata": {
        "id": "37Sd3LFPJ7D_"
      },
      "execution_count": null,
      "outputs": []
    },
    {
      "cell_type": "code",
      "source": [
        "# Pour les acteurs, on ne garde que les 3 premiers\n",
        "def get_top_actors(cast_json):\n",
        "  try:\n",
        "    cast = ast.literal_eval(cast_json)\n",
        "    top_cast = [actor['name'] for actor in cast[:3]]\n",
        "    return ' '.join(top_cast)\n",
        "  except:\n",
        "    return ''\n",
        "\n",
        "movies_features['cast'] = movies_features['cast'].apply(get_top_actors)"
      ],
      "metadata": {
        "id": "X3YX4JIJzEZB"
      },
      "execution_count": null,
      "outputs": []
    },
    {
      "cell_type": "code",
      "source": [
        "# Pour l'équipe, on ne garde que le réalisateur\n",
        "def get_director(crew_json):\n",
        "  try:\n",
        "    crew = ast.literal_eval(crew_json)\n",
        "    directors = [member['name'] for member in crew if member['job'] == 'Director']\n",
        "    return ' '.join(directors)\n",
        "  except:\n",
        "    return ''"
      ],
      "metadata": {
        "id": "KTuXBJ-b4t4F"
      },
      "execution_count": null,
      "outputs": []
    },
    {
      "cell_type": "markdown",
      "source": [
        "## 4. <a id=\"representation-vecto\">Création de la représentation vectorielle des films</a>\n",
        "Il est nécessaire de créer une représentation vectorielle pour :\n",
        "- Transformer du texte en nombres pour que les algorithmes puissent l'utiliser\n",
        "- Comparer les films entre eux grâce à la similarité cosinus\n",
        "- Créer un moteur de recommandations"
      ],
      "metadata": {
        "id": "bmanoExd58gv"
      }
    },
    {
      "cell_type": "code",
      "source": [
        "# Concaténation de toutes les caractéristiques\n",
        "movies_features['combined_features'] = (\n",
        "    movies_features['overview'] + ' ' +\n",
        "    movies_features['genres'] + ' ' +\n",
        "    movies_features['keywords'] + ' ' +\n",
        "    movies_features['cast'] + ' ' +\n",
        "    movies_features['crew']\n",
        ")"
      ],
      "metadata": {
        "id": "hSeqOUt15URn"
      },
      "execution_count": null,
      "outputs": []
    },
    {
      "cell_type": "code",
      "source": [
        "# Vectorisation des caractéristiques avec TF-IDF\n",
        "tfidf = TfidfVectorizer(stop_words='english')\n",
        "tfidf_matrix = tfidf.fit_transform(movies_features['combined_features'])"
      ],
      "metadata": {
        "id": "zOZuaIMcYrLh"
      },
      "execution_count": null,
      "outputs": []
    },
    {
      "cell_type": "markdown",
      "source": [
        "## 5. <a id=\"similarité\">Calcul de la similarité</a>"
      ],
      "metadata": {
        "id": "Zb68RURlcbrj"
      }
    },
    {
      "cell_type": "code",
      "source": [
        "# Utilisation de la similarité cosinus\n",
        "cosine_sim = cosine_similarity(tfidf_matrix, tfidf_matrix)"
      ],
      "metadata": {
        "id": "rqKU7JaDcirb"
      },
      "execution_count": null,
      "outputs": []
    },
    {
      "cell_type": "markdown",
      "source": [
        "## 6. <a id=\"fonction-reco\">Fonction de recommandation</a>"
      ],
      "metadata": {
        "id": "IcaKg-eeZVL8"
      }
    },
    {
      "cell_type": "code",
      "source": [
        "def get_recommendations(title, cosine_sim=cosine_sim, movies_df=movies_features):\n",
        "  # Vérifie si le film existe dans le base de données\n",
        "  if title not in movies_df['title'].values:\n",
        "    close_matches = movies_df[movies_df['title'].str.contains(title, case=False)]\n",
        "    if not close_matches.empty:\n",
        "      title = close_matches.iloc[0]['titel']\n",
        "      print(f\"Film introuvable. Utilisation de '{title}' à la place.\")\n",
        "    else:\n",
        "      return \"Film introuvable. Veuillez essayer un autre titre.\"\n",
        "\n",
        "  # Récupération de l'index du film\n",
        "  idx = movies_df[movies_df['title'] == title].index[0]\n",
        "\n",
        "  # Création d'une liste de tuples (positions, score de similarité)\n",
        "  sim_scores = list(enumerate(cosine_sim[idx]))\n",
        "\n",
        "  # Tri des films en fonction du score de similarité\n",
        "  sim_scores = sorted(sim_scores, key=lambda x: x[1], reverse=True)\n",
        "\n",
        "  # Top 10 des films similaires (en excluant le film lui-même)\n",
        "  sim_scores = sim_scores[1:11]\n",
        "\n",
        "  # Récupération des indices des films\n",
        "  movie_indices = [i[0] for i in sim_scores]\n",
        "\n",
        "  # Retourner les 10 films les plus similaires\n",
        "  recommanded_movies = movies_df['title'].iloc[movie_indices]\n",
        "\n",
        "  # Récupérer les scores pours visualisation\n",
        "  similarity_scores = [i[1] for i in sim_scores]\n",
        "\n",
        "  # Créer un DataFrame avec les recommandations et leurs scores\n",
        "  recommandations = pd.DataFrame({\n",
        "      'Film': recommanded_movies.values,\n",
        "      'Score de similarité': similarity_scores\n",
        "  })\n",
        "\n",
        "  return recommandations"
      ],
      "metadata": {
        "id": "oDRBsiLyZGw3"
      },
      "execution_count": null,
      "outputs": []
    },
    {
      "cell_type": "markdown",
      "source": [
        "## 7. <a id=\"visualisation\">Visualisation</a>"
      ],
      "metadata": {
        "id": "0_bOhjNPc3IS"
      }
    },
    {
      "cell_type": "code",
      "source": [
        "def plot_recommandations(recommandations):\n",
        "  plt.figure(figsize=(10, 6))\n",
        "\n",
        "  # Créer un graphique à barres horizontales\n",
        "  sns.barplot(x='Score de similarité', y='Film', data=recommandations)\n",
        "\n",
        "  plt.title('Films recommandés et leurs scores de similarité')\n",
        "  plt.xlabel('Score de similarité')\n",
        "  plt.ylabel('Films')\n",
        "  plt.tight_layout()\n",
        "\n",
        "  plt.savefig('recommandations_plot.png')\n",
        "  plt.show()"
      ],
      "metadata": {
        "id": "hddHerXUc6wL"
      },
      "execution_count": null,
      "outputs": []
    },
    {
      "cell_type": "markdown",
      "source": [
        "## 8. <a id=\"evaluation\">Évaluation du sytème</a>"
      ],
      "metadata": {
        "id": "EAafLgQCdpyv"
      }
    },
    {
      "cell_type": "code",
      "source": [
        "def evaluate_system():\n",
        "  # Sélectionner des films populaires l'évaluation\n",
        "  popular_movies = movies_data.sort_values('popularity', ascending=False).head(10)['title'].values\n",
        "\n",
        "  results = {}\n",
        "  for movie in popular_movies:\n",
        "    recommandations = get_recommendations(movie)\n",
        "    if isinstance(recommandations, pd.DataFrame):\n",
        "      # Calculer le score moyen de similarité\n",
        "      avg_score = recommandations['Score de similarité'].mean()\n",
        "      results[movie] = avg_score\n",
        "\n",
        "  # Visualiser les résultats\n",
        "  plt.figure(figsize=(12, 6))\n",
        "  plt.bar(results.keys(), results.values())\n",
        "  plt.xticks(rotation=45, ha='right')\n",
        "  plt.title('Score moyen de similarité pour différents films populaires')\n",
        "  plt.ylabel('Score moyen')\n",
        "  plt.tight_layout()\n",
        "\n",
        "  plt.savefig('evaluation_plot.png')\n",
        "  plt.show()\n",
        "\n",
        "  return results"
      ],
      "metadata": {
        "id": "tOuc7SJ6dt75"
      },
      "execution_count": null,
      "outputs": []
    },
    {
      "cell_type": "code",
      "source": [
        "# Exemple d'utilisation\n",
        "if __name__ == \"__main__\":\n",
        "  # Exemple : recommandations pour \"The Dark Knight\"\n",
        "  recommandations = get_recommendations(\"The Dark Knight\")\n",
        "  print(recommandations)\n",
        "\n",
        "  # Visualisation des recommandations\n",
        "  plot_recommandations(recommandations)\n",
        "\n",
        "  # Évaluation du sytème\n",
        "  evaluation_results = evaluate_system()\n",
        "  print(\"\\nRésultats de l'évaluation :\")\n",
        "  for movie, score in evaluation_results.items():\n",
        "    print(f\"{movie}: {score:.4f}\")"
      ],
      "metadata": {
        "id": "Jo2VNzxgfOnK"
      },
      "execution_count": null,
      "outputs": []
    },
    {
      "cell_type": "code",
      "source": [],
      "metadata": {
        "id": "gSj3PorHf_v8"
      },
      "execution_count": null,
      "outputs": []
    }
  ]
}